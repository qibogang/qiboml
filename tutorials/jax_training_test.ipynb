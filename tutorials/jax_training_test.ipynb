{
 "cells": [
  {
   "cell_type": "code",
   "execution_count": 11,
   "id": "21efdba5-e9ab-4229-86f3-c7b0a81236f5",
   "metadata": {},
   "outputs": [
    {
     "data": {
      "text/plain": [
       "<module 'qiboml.operations.expectation' from '/home/matteo/Documents/PhD/qiboml/src/qiboml/operations/expectation.py'>"
      ]
     },
     "execution_count": 11,
     "metadata": {},
     "output_type": "execute_result"
    },
    {
     "name": "stdout",
     "output_type": "stream",
     "text": [
      "time: 5.72 ms (started: 2024-06-14 16:58:07 +02:00)\n"
     ]
    }
   ],
   "source": [
    "import time\n",
    "import os\n",
    "\n",
    "import jax\n",
    "import numpy as np\n",
    "\n",
    "import matplotlib.pyplot as plt\n",
    "\n",
    "# disabling hardware accelerators warnings\n",
    "os.environ[\"TF_CPP_MIN_LOG_LEVEL\"] = \"3\"\n",
    "import tensorflow as tf\n",
    "\n",
    "import qibo\n",
    "from qibo.backends import construct_backend\n",
    "from qibo import Circuit, gates, hamiltonians\n",
    "from qiboml.operations import expectation\n",
    "from qiboml.operations import differentiation\n",
    "\n",
    "from importlib import reload\n",
    "reload(expectation)"
   ]
  },
  {
   "cell_type": "code",
   "execution_count": 2,
   "id": "95168784-4a7c-4f1b-b3c7-a59608c69f31",
   "metadata": {},
   "outputs": [
    {
     "name": "stdout",
     "output_type": "stream",
     "text": [
      "time: 1.08 ms (started: 2024-06-14 16:51:34 +02:00)\n"
     ]
    }
   ],
   "source": [
    "def build_parametric_circuit(nqubits, nlayers):\n",
    "    \"\"\"Build a Parametric Quantum Circuit with Qibo.\"\"\"\n",
    "    c = Circuit(nqubits)\n",
    "    for _ in range(nlayers):\n",
    "        for q in range(nqubits):\n",
    "            c.add(gates.RY(q=q, theta=0))\n",
    "            c.add(gates.RZ(q=q, theta=0))\n",
    "        for q in range(0, nqubits-1, 1):\n",
    "            c.add(gates.CNOT(q0=q, q1=q+1))\n",
    "        c.add(gates.CNOT(q0=nqubits-1, q1=0))\n",
    "    c.add(gates.M(*range(nqubits)))\n",
    "\n",
    "    return c\n",
    "\n",
    "def build_observable(nqubits):\n",
    "    \"\"\"build observable.\"\"\"\n",
    "    return hamiltonians.Z(nqubits=nqubits)"
   ]
  },
  {
   "cell_type": "code",
   "execution_count": 3,
   "id": "2ae03a97-a06c-4191-88f3-8e1da92e1954",
   "metadata": {},
   "outputs": [
    {
     "name": "stdout",
     "output_type": "stream",
     "text": [
      "time: 843 µs (started: 2024-06-14 16:51:36 +02:00)\n"
     ]
    }
   ],
   "source": [
    "nqubits = 3\n",
    "nlayers = 3\n",
    "nepochs = 100\n",
    "random_seed = 42\n",
    "learning_rate = 0.01"
   ]
  },
  {
   "cell_type": "code",
   "execution_count": 7,
   "id": "8cce9bf9-a5d6-4813-8cb5-f7589092c876",
   "metadata": {},
   "outputs": [
    {
     "name": "stdout",
     "output_type": "stream",
     "text": [
      "time: 3.59 ms (started: 2024-06-14 16:52:38 +02:00)\n"
     ]
    }
   ],
   "source": [
    "def train(\n",
    "    nqubits, \n",
    "    nlayers, \n",
    "    nepochs, \n",
    "    learning_rate, \n",
    "    qibo_backend=\"jax\", \n",
    "    exec_backend=\"jax\",\n",
    "    jit=True, \n",
    "    verbose=True\n",
    "):\n",
    "    \"\"\"Training routine.\"\"\"\n",
    "\n",
    "    qibo.set_backend(qibo_backend)\n",
    "    c = build_parametric_circuit(nqubits, nlayers)\n",
    "    h = build_observable(nqubits)\n",
    "\n",
    "    if verbose:\n",
    "        print(c.draw())\n",
    "\n",
    "    np.random.seed(42)\n",
    "    parameters = np.random.randn(len(c.get_parameters()))\n",
    "    \n",
    "\n",
    "    def cost_function(params):\n",
    "        \"\"\"Cost function wrapper.\"\"\"\n",
    "        c.set_parameters(params)\n",
    "        exp = expectation.expectation(\n",
    "            observable=h, circuit=c, exec_backend=construct_backend(exec_backend),\n",
    "            )\n",
    "        return exp\n",
    "\n",
    "    if jit:\n",
    "        if qibo_backend == \"jax\":\n",
    "            cost_function = jax.jit(cost_function)\n",
    "\n",
    "    it = time.time()\n",
    "    if qibo_backend == \"jax\":\n",
    "        dcost = jax.grad(cost_function)\n",
    "\n",
    "        for epoch in range(nepochs):\n",
    "            gradients = dcost(parameters)\n",
    "            cost = cost_function(parameters)\n",
    "            if (epoch % 10 == 0) and verbose is True:\n",
    "                print(f\"Cost: {cost:.4} \\t |\\t Epoch: {epoch}\")\n",
    "            parameters -= learning_rate * gradients \n",
    "\n",
    "    if qibo_backend == \"tensorflow\":        \n",
    "        for epoch in range(nepochs):\n",
    "            with tf.GradientTape() as tape:\n",
    "                parameters = tf.Variable(parameters)\n",
    "                cost = cost_function(parameters)\n",
    "            if (epoch % 10 == 0) and verbose is True:\n",
    "                print(f\"Cost: {cost:.4} \\t |\\t Epoch: {epoch}\")\n",
    "            gradients = tape.gradient(cost, parameters)\n",
    "            parameters = parameters.assign_sub(learning_rate * gradients)\n",
    "    ft = time.time()\n",
    "    return (ft-it)"
   ]
  },
  {
   "cell_type": "code",
   "execution_count": 8,
   "id": "b6d961da-6697-4c6f-922c-cee8125898ae",
   "metadata": {},
   "outputs": [
    {
     "name": "stderr",
     "output_type": "stream",
     "text": [
      "[Qibo 0.2.9|INFO|2024-06-14 16:52:39]: Using jax backend on /CPU:0\n",
      "[Qibo 0.2.9|INFO|2024-06-14 16:52:40]: Using tensorflow backend on /device:CPU:0\n",
      "[Qibo 0.2.9|INFO|2024-06-14 16:52:41]: Using jax backend on /CPU:0\n",
      "[Qibo 0.2.9|INFO|2024-06-14 16:52:42]: Using tensorflow backend on /device:CPU:0\n",
      "[Qibo 0.2.9|INFO|2024-06-14 16:52:43]: Using jax backend on /CPU:0\n",
      "[Qibo 0.2.9|INFO|2024-06-14 16:52:46]: Using tensorflow backend on /device:CPU:0\n",
      "[Qibo 0.2.9|INFO|2024-06-14 16:52:48]: Using jax backend on /CPU:0\n",
      "[Qibo 0.2.9|INFO|2024-06-14 16:52:53]: Using tensorflow backend on /device:CPU:0\n",
      "[Qibo 0.2.9|INFO|2024-06-14 16:52:56]: Using jax backend on /CPU:0\n",
      "[Qibo 0.2.9|INFO|2024-06-14 16:53:05]: Using tensorflow backend on /device:CPU:0\n",
      "[Qibo 0.2.9|INFO|2024-06-14 16:53:09]: Using jax backend on /CPU:0\n",
      "[Qibo 0.2.9|INFO|2024-06-14 16:53:24]: Using tensorflow backend on /device:CPU:0\n",
      "[Qibo 0.2.9|INFO|2024-06-14 16:53:30]: Using jax backend on /CPU:0\n",
      "[Qibo 0.2.9|INFO|2024-06-14 16:53:55]: Using tensorflow backend on /device:CPU:0\n"
     ]
    },
    {
     "name": "stdout",
     "output_type": "stream",
     "text": [
      "time: 1min 23s (started: 2024-06-14 16:52:39 +02:00)\n"
     ]
    }
   ],
   "source": [
    "NQ = np.arange(2, 9, 1)\n",
    "nepochs = 20\n",
    "\n",
    "jax_times = []\n",
    "tf_times = []\n",
    "qibojit_times = []\n",
    "\n",
    "for n in NQ:\n",
    "    jax_times.append(train(\n",
    "        nqubits=int(n), \n",
    "        nlayers=int(n), \n",
    "        nepochs=nepochs, \n",
    "        learning_rate=learning_rate, \n",
    "        qibo_backend=\"jax\",\n",
    "        exec_backend=\"jax\",\n",
    "        verbose=False\n",
    "        )\n",
    "    )\n",
    "    tf_times.append(train(\n",
    "        nqubits=int(n), \n",
    "        nlayers=int(n), \n",
    "        nepochs=nepochs, \n",
    "        learning_rate=learning_rate, \n",
    "        qibo_backend=\"tensorflow\",\n",
    "        exec_backend=\"tensorflow\",\n",
    "        verbose=False\n",
    "        )\n",
    "    )"
   ]
  },
  {
   "cell_type": "code",
   "execution_count": 10,
   "id": "6799265b-fd9c-4084-b37c-615cb7550b63",
   "metadata": {},
   "outputs": [
    {
     "data": {
      "image/png": "[encoded data removed]",
      "text/plain": [
       "<Figure size 600x450 with 1 Axes>"
      ]
     },
     "metadata": {},
     "output_type": "display_data"
    },
    {
     "name": "stdout",
     "output_type": "stream",
     "text": [
      "time: 1.74 s (started: 2024-06-14 16:54:31 +02:00)\n"
     ]
    }
   ],
   "source": [
    "plt.figure(figsize=(6, 6*6/8))\n",
    "plt.scatter(np.arange(2,9,1), tf_times, label=\"TF\", color=\"royalblue\")\n",
    "plt.scatter(np.arange(2,9,1), jax_times, label=\"jax\", color=\"red\")\n",
    "plt.grid(\"True\")\n",
    "plt.legend()\n",
    "plt.xlabel(\"Qubits\")\n",
    "plt.ylabel(\"Time [s]\")\n",
    "plt.savefig(\"jax_tf_train.png\", dpi=1200)\n",
    "plt.show()"
   ]
  },
  {
   "cell_type": "code",
   "execution_count": 61,
   "id": "1883355d-98d5-4867-afe4-95823f28a39c",
   "metadata": {},
   "outputs": [
    {
     "data": {
      "text/plain": [
       "[None, None, None, None, None, None]"
      ]
     },
     "execution_count": 61,
     "metadata": {},
     "output_type": "execute_result"
    },
    {
     "name": "stdout",
     "output_type": "stream",
     "text": [
      "time: 4.19 ms (started: 2024-05-07 11:06:04 +02:00)\n"
     ]
    }
   ],
   "source": [
    "jax_times"
   ]
  },
  {
   "cell_type": "code",
   "execution_count": 8,
   "id": "773f60aa-8a11-4bfe-8ce5-933c0535300f",
   "metadata": {},
   "outputs": [
    {
     "name": "stderr",
     "output_type": "stream",
     "text": [
      "/home/matteo/anaconda3/envs/eqibo/lib/python3.10/multiprocessing/popen_fork.py:66: RuntimeWarning: os.fork() was called. os.fork() is incompatible with multithreaded code, and JAX is multithreaded, so this will likely lead to a deadlock.\n",
      "  self.pid = os.fork()\n",
      "[Qibo 0.2.8|INFO|2024-05-07 13:17:08]: Using jax backend on /CPU:0\n"
     ]
    },
    {
     "name": "stdout",
     "output_type": "stream",
     "text": [
      "q0: ─RY─RZ─o───X─RY─RZ─o───X─RY─RZ─o───X─M─\n",
      "q1: ─RY─RZ─X─o─|─RY─RZ─X─o─|─RY─RZ─X─o─|─M─\n",
      "q2: ─RY─RZ───X─o─RY─RZ───X─o─RY─RZ───X─o─M─\n"
     ]
    },
    {
     "name": "stderr",
     "output_type": "stream",
     "text": [
      "/home/matteo/anaconda3/envs/eqibo/lib/python3.10/multiprocessing/popen_fork.py:66: RuntimeWarning: os.fork() was called. os.fork() is incompatible with multithreaded code, and JAX is multithreaded, so this will likely lead to a deadlock.\n",
      "  self.pid = os.fork()\n"
     ]
    },
    {
     "name": "stdout",
     "output_type": "stream",
     "text": [
      "Cost: -0.9762 \t |\t Epoch: 0\n",
      "Cost: -1.482 \t |\t Epoch: 10\n",
      "peak memory: 2059.69 MiB, increment: 0.12 MiB\n",
      "time: 2.01 s (started: 2024-05-07 13:17:07 +02:00)\n"
     ]
    }
   ],
   "source": [
    "%%memit\n",
    "train(nqubits, nlayers, nepochs, learning_rate, \"jax\")"
   ]
  },
  {
   "cell_type": "code",
   "execution_count": 6,
   "id": "ecfa5c12-5a01-45cf-a876-e375f0cdb094",
   "metadata": {},
   "outputs": [
    {
     "name": "stderr",
     "output_type": "stream",
     "text": [
      "[Qibo 0.2.8|INFO|2024-05-07 17:15:33]: Using jax backend on /CPU:0\n"
     ]
    },
    {
     "name": "stdout",
     "output_type": "stream",
     "text": [
      "q0: ─RY─RZ─o─────X─RY─RZ─o─────X─RY─RZ─o─────X─RY─RZ─o─────X─M─\n",
      "q1: ─RY─RZ─X─o───|─RY─RZ─X─o───|─RY─RZ─X─o───|─RY─RZ─X─o───|─M─\n",
      "q2: ─RY─RZ───X─o─|─RY─RZ───X─o─|─RY─RZ───X─o─|─RY─RZ───X─o─|─M─\n",
      "q3: ─RY─RZ─────X─o─RY─RZ─────X─o─RY─RZ─────X─o─RY─RZ─────X─o─M─\n",
      "Cost: -0.3661 \t |\t Epoch: 0\n"
     ]
    },
    {
     "data": {
      "text/plain": [
       "2.719146251678467"
      ]
     },
     "execution_count": 6,
     "metadata": {},
     "output_type": "execute_result"
    },
    {
     "name": "stdout",
     "output_type": "stream",
     "text": [
      "time: 2.74 s (started: 2024-05-07 17:15:33 +02:00)\n"
     ]
    }
   ],
   "source": [
    "train(nqubits=4, \n",
    "        nlayers=4, \n",
    "        nepochs=10, \n",
    "        learning_rate=0.01, \n",
    "        qibo_backend=\"jax\",\n",
    "        exec_backend=\"jax\",\n",
    "        verbose=True,\n",
    "        jit=True\n",
    "        )"
   ]
  },
  {
   "cell_type": "code",
   "execution_count": null,
   "id": "db41b7b2-10f7-40dd-a5e3-4cd2b0ea303c",
   "metadata": {},
   "outputs": [],
   "source": []
  }
 ],
 "metadata": {
  "kernelspec": {
   "display_name": "Python 3 (ipykernel)",
   "language": "python",
   "name": "python3"
  },
  "language_info": {
   "codemirror_mode": {
    "name": "ipython",
    "version": 3
   },
   "file_extension": ".py",
   "mimetype": "text/x-python",
   "name": "python",
   "nbconvert_exporter": "python",
   "pygments_lexer": "ipython3",
   "version": "3.10.0"
  }
 },
 "nbformat": 4,
 "nbformat_minor": 5
}
