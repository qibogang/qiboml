{
 "cells": [
  {
   "cell_type": "markdown",
   "id": "594e8add-362c-40a7-bb46-2d468529d9e9",
   "metadata": {},
   "source": [
    "## Custom automatic differentiation\n",
    "\n",
    "In `Qiboml` we inherit the `backend` mechanism introduced in `Qibo`, extending it to the possibility of executing our quantum circuits on a specific engine indipendently of the choice of the high-level interface. \n",
    "\n",
    "This means you can decide to work with TensorFlow, or Pytorch, or others, depending on your personal preference, while keeping the possibility to freely set any `Qibo` backend for the circuit's execution.\n",
    "\n",
    "Moreover, we allow free choice of the differentiation rule to be used, which can be selected among the available differentiation rules implemented in `Qiboml`.\n",
    "\n",
    "A schematic representation of the pipeline follows, where we use as an example the custom differentiation rule of TensorFlow.\n",
    "<center><img src=\"./figures/customdiff.svg\" alt=\"drawing\" width=\"1000\"/></center>"
   ]
  },
  {
   "cell_type": "markdown",
   "id": "e183c5e9-fac2-4fb0-add6-dad9deffa00e",
   "metadata": {},
   "source": [
    "In practice, one defines the problem setup by setting the `Qibo` backend as usual. Let's set `tensorflow`."
   ]
  },
  {
   "cell_type": "code",
   "execution_count": 21,
   "id": "1cbe98d3-e4c9-4f89-9a27-3918f8877e51",
   "metadata": {},
   "outputs": [
    {
     "data": {
      "text/plain": [
       "<module 'qiboml.operations.differentiation' from '/home/matteo/Documents/PhD/qiboml/src/qiboml/operations/differentiation.py'>"
      ]
     },
     "execution_count": 21,
     "metadata": {},
     "output_type": "execute_result"
    }
   ],
   "source": [
    "import os\n",
    "import time\n",
    "from copy import deepcopy\n",
    "\n",
    "# disabling hardware accelerators warnings\n",
    "os.environ[\"TF_CPP_MIN_LOG_LEVEL\"] = \"3\"\n",
    "\n",
    "import numpy as np\n",
    "import tensorflow as tf\n",
    "import matplotlib.pyplot as plt\n",
    "\n",
    "import qibo\n",
    "from qibo import set_backend\n",
    "from qibo.backends import construct_backend\n",
    "from qibo import Circuit, gates, hamiltonians\n",
    "\n",
    "from qiboml.operations import differentiation, expectation\n",
    "\n",
    "from importlib import reload\n",
    "reload(expectation)\n",
    "reload(differentiation)"
   ]
  },
  {
   "cell_type": "code",
   "execution_count": 22,
   "id": "bbbf2339-efe7-4170-9408-a7b66dff35ae",
   "metadata": {},
   "outputs": [
    {
     "name": "stderr",
     "output_type": "stream",
     "text": [
      "[Qibo 0.2.8|INFO|2024-06-14 12:23:27]: Using tensorflow backend on /device:CPU:0\n"
     ]
    }
   ],
   "source": [
    "set_backend(\"tensorflow\")"
   ]
  },
  {
   "cell_type": "markdown",
   "id": "d904f949-3546-4641-b1d4-c16c75cc8d54",
   "metadata": {},
   "source": [
    "Now let's setup a simple problem. We build a quantum circuit $U$ composed of some rotations and we compute the gradients of\n",
    "$$ \\langle 0 | U^{\\dagger} O U | 0 \\rangle, $$\n",
    "where $O$ is an observable.\n",
    "\n",
    "Let's start with the circuit:"
   ]
  },
  {
   "cell_type": "code",
   "execution_count": 8,
   "id": "fd9264ff-150c-4be7-89ba-5b5fb37afa3b",
   "metadata": {},
   "outputs": [],
   "source": [
    "def build_parametric_circuit(nqubits, nlayers):\n",
    "    \"\"\"Build a Parametric Quantum Circuit with Qibo.\"\"\"\n",
    "    \n",
    "    c = Circuit(nqubits)\n",
    "    for _ in range(nlayers):\n",
    "        for q in range(nqubits):\n",
    "            c.add(gates.RY(q=q, theta=0))\n",
    "            c.add(gates.RZ(q=q, theta=0))\n",
    "        for q in range(0, nqubits-1, 1):\n",
    "            c.add(gates.CNOT(q0=q, q1=q+1))\n",
    "        c.add(gates.CNOT(q0=nqubits-1, q1=0))\n",
    "    c.add(gates.M(*range(nqubits)))\n",
    "\n",
    "    return c"
   ]
  },
  {
   "cell_type": "code",
   "execution_count": 9,
   "id": "37ba84ff-ecb5-46b1-a060-8a4df87d1c1c",
   "metadata": {},
   "outputs": [
    {
     "name": "stdout",
     "output_type": "stream",
     "text": [
      "q0:     ─RY─RZ─o───────X─RY─RZ─o───────X─RY─RZ─o───────X─RY─RZ─o───────X─RY─RZ ...\n",
      "q1:     ─RY─RZ─X─o─────|─RY─RZ─X─o─────|─RY─RZ─X─o─────|─RY─RZ─X─o─────|─RY─RZ ...\n",
      "q2:     ─RY─RZ───X─o───|─RY─RZ───X─o───|─RY─RZ───X─o───|─RY─RZ───X─o───|─RY─RZ ...\n",
      "q3:     ─RY─RZ─────X─o─|─RY─RZ─────X─o─|─RY─RZ─────X─o─|─RY─RZ─────X─o─|─RY─RZ ...\n",
      "q4:     ─RY─RZ───────X─o─RY─RZ───────X─o─RY─RZ───────X─o─RY─RZ───────X─o─RY─RZ ...\n",
      "\n",
      "q0: ... ─o───────X─M─\n",
      "q1: ... ─X─o─────|─M─\n",
      "q2: ... ───X─o───|─M─\n",
      "q3: ... ─────X─o─|─M─\n",
      "q4: ... ───────X─o─M─\n"
     ]
    }
   ],
   "source": [
    "# circuit\n",
    "nqubits = 5\n",
    "nlayers = 5\n",
    "\n",
    "c = build_parametric_circuit(nqubits, nlayers)\n",
    "print(c.draw())"
   ]
  },
  {
   "cell_type": "markdown",
   "id": "398f2f1f-3c91-4437-9a23-8801753c0785",
   "metadata": {},
   "source": [
    "We can fill the circuit with a set of random parameters"
   ]
  },
  {
   "cell_type": "code",
   "execution_count": 10,
   "id": "6b4afa80-bf2d-45e9-ba46-c7996a463fba",
   "metadata": {},
   "outputs": [],
   "source": [
    "# set random parameters\n",
    "nparams = len(c.get_parameters())\n",
    "np.random.seed(42)\n",
    "params = np.random.uniform(0, 2*np.pi, nparams)\n",
    "\n",
    "c.set_parameters(params)"
   ]
  },
  {
   "cell_type": "markdown",
   "id": "26162d5b-45ca-45aa-af62-3367ef0d57a7",
   "metadata": {},
   "source": [
    "We can now define a simple hamiltonian, which will be our target observable."
   ]
  },
  {
   "cell_type": "code",
   "execution_count": 11,
   "id": "b73dad19-cadc-45d5-8d58-85ee5f4d4247",
   "metadata": {},
   "outputs": [
    {
     "name": "stdout",
     "output_type": "stream",
     "text": [
      "<class 'tensorflow.python.framework.ops.EagerTensor'>\n"
     ]
    }
   ],
   "source": [
    "# an observable\n",
    "obs = hamiltonians.Z(nqubits=nqubits)\n",
    "\n",
    "print(type(obs.matrix))"
   ]
  },
  {
   "cell_type": "markdown",
   "id": "2142eec0-4010-4140-b393-cccf8d32d1fa",
   "metadata": {},
   "source": [
    "Once executed the circuit, we can use the final state to compute the expectation value of the target observable using the appropriate`Qibo` function. "
   ]
  },
  {
   "cell_type": "code",
   "execution_count": 38,
   "id": "6ea9d1a0-e908-4940-9759-fa4c92053ffa",
   "metadata": {},
   "outputs": [
    {
     "name": "stdout",
     "output_type": "stream",
     "text": [
      "tf.Tensor(0.4819699055858453, shape=(), dtype=float64)\n"
     ]
    }
   ],
   "source": [
    "# compute the expectation value\n",
    "final_state = c(nshots=1000).state()\n",
    "\n",
    "print(obs.expectation(final_state))"
   ]
  },
  {
   "cell_type": "markdown",
   "id": "793479b8-ee33-4ec4-9b31-5b539234e904",
   "metadata": {},
   "source": [
    "On the other hand, we developed a customized version of the `expectation` function in `qiboml`, which allows the user to keep the name convention, while integrating the possibility of customize the automatic differentiation provided by the chosen machine learning framework. It can be called from the `qiboml.expectation` module.\n",
    "\n",
    "This function accepts some more argument than the `qibo`'s one. In particular:\n",
    "\n",
    "- `observable`: the target observable, whose expectation value we are interested in;\n",
    "- `circuit`: the circuit which returns the final state used to compute the expectation value;\n",
    "- `inital_state`: the state of the system before applying the circuit;\n",
    "- `nshots`: the number of shots to compute the expectation value;\n",
    "- `exec_backend`: the backend on which we want to execute the circuit. This backend can even be a real quantum computer, when setting the `qibolab` backend. To construct the backend required here, one can use the method `qibo.backends.construct_backend(backend=\"backend\", platform=\"platform\")`;\n",
    "- `differentiation_rule`: the actual differentiation rule one wants to apply. "
   ]
  },
  {
   "cell_type": "code",
   "execution_count": 17,
   "id": "0c279101-960f-4ce4-b11f-3297c24e5e72",
   "metadata": {},
   "outputs": [
    {
     "name": "stdout",
     "output_type": "stream",
     "text": [
      "0.6519999999999999\n"
     ]
    }
   ],
   "source": [
    "exec_backend = construct_backend(\"tensorflow\")\n",
    "\n",
    "exp = expectation.expectation(\n",
    "    observable=obs,\n",
    "    circuit=c,\n",
    "    exec_backend=exec_backend,\n",
    "    nshots=1000,\n",
    ")\n",
    "\n",
    "print(exp)"
   ]
  },
  {
   "cell_type": "markdown",
   "id": "a859b18b-c18d-4297-9a08-df433480f6e2",
   "metadata": {},
   "source": [
    "To check if we are actually changing backend, we can compute a certain number of times the expectation value, and plot the time of execution of different backend engines, such that `tensorflow` or `numpy`."
   ]
  },
  {
   "cell_type": "code",
   "execution_count": 14,
   "id": "bec419f1-0fca-4d7a-beca-e09947951278",
   "metadata": {},
   "outputs": [
    {
     "name": "stdout",
     "output_type": "stream",
     "text": [
      "0/2 exec\n",
      "here\n",
      "here\n",
      "here\n",
      "here\n"
     ]
    }
   ],
   "source": [
    "np_backend = construct_backend(\"numpy\")\n",
    "tf_backend = construct_backend(\"tensorflow\")\n",
    "\n",
    "np_times, tf_times = [0.], [0.]\n",
    "nexec = 2\n",
    "\n",
    "for n in range(nexec):\n",
    "    # some logging messages\n",
    "    if (n%100==0):\n",
    "        print(f\"{n}/{nexec} exec\")\n",
    "    \n",
    "    # executing on numpy backend\n",
    "    it = time.time()\n",
    "    expectation.expectation(\n",
    "        observable=obs,\n",
    "        circuit=c,\n",
    "        exec_backend=np_backend,\n",
    "        differentiation_rule=differentiation.parameter_shift\n",
    "    )\n",
    "    ft = time.time()\n",
    "    np_times.append((ft-it))\n",
    "\n",
    "    # executing on tensorflow backend\n",
    "    it = time.time()\n",
    "    expectation.expectation(\n",
    "        observable=obs,\n",
    "        circuit=c,\n",
    "        exec_backend=tf_backend,\n",
    "        differentiation_rule=differentiation.parameter_shift\n",
    "    )\n",
    "    ft = time.time()\n",
    "    tf_times.append((ft-it))"
   ]
  },
  {
   "cell_type": "code",
   "execution_count": 20,
   "id": "72af880a-092d-4531-85d8-e1809359788d",
   "metadata": {},
   "outputs": [
    {
     "data": {
      "image/png": "[encoded data removed]",
      "text/plain": [
       "<Figure size 600x450 with 1 Axes>"
      ]
     },
     "metadata": {},
     "output_type": "display_data"
    }
   ],
   "source": [
    "plt.figure(figsize=(6, 6*6/8))\n",
    "plt.plot(np.add.accumulate(np_times), color=\"red\", label=\"Numpy backend\")\n",
    "plt.plot(np.add.accumulate(tf_times), color=\"royalblue\", label=\"TensorFlow backend\")\n",
    "plt.legend()\n",
    "plt.xlabel(\"# executions\")\n",
    "plt.ylabel(\"Time [s]\")\n",
    "plt.grid(True)\n",
    "plt.savefig(\"tf_vs_np.png\", dpi=1200)\n",
    "plt.show()"
   ]
  },
  {
   "cell_type": "markdown",
   "id": "3e96cb14-5896-4b60-bd90-138906b2c121",
   "metadata": {},
   "source": [
    "This behaviour is expected, since TensorFlow is typically slower than the Numpy backend in executing circuits. It is clear, here, that setting the backend engine to `numpy`, even setting the `frontend` as `tensorflow`, is more convenient."
   ]
  },
  {
   "cell_type": "markdown",
   "id": "23608465-be0b-4a78-8733-cfad381b1cf7",
   "metadata": {},
   "source": [
    "### Optimization example\n",
    "\n",
    "In the following, we optimize the parameters of the parametric circuit to minimize a target cost function, which is the expectation value of a target hamiltonian. We will repeat this three times, using different configuation of the `qiboml` custom differentiation. Let us describe each of these scenarios with the triad `(frontend, differentiation rule, execution backend)`:\n",
    "\n",
    "1. `(tf, psr, tf)`: we are working with the TensorFlow interface, we use the parameter shift rule as differentiation algorithm and we execute the circuits using the Qibo's `tensorflow` backend;\n",
    "2. `(tf, psr, np)`: we are working with the TensorFlow interface, we use the parameter shift rule as differentiation algorithm and we execute the circuits using the Qibo's `numpy` backend;\n",
    "3. `(tf, tf, tf)`: we are working with the TensorFlow interface, we use the tensorflow automatic differentiation algorithm and we execute the circuits using the Qibo's `tensorflow` backend.\n",
    "\n",
    "Note that these are only three of the many possible combinations. One has to pay attention to the problem configuration, e.g. considering the parameter shift algorithm when executing circuits on real hardware (`qibolab` backend), or activating the shot-noise. In fact, the automatic differentiation of tensorflow breaks when shot-noise is activated.\n",
    "\n",
    "We make use of the following function, through which we can customize the training."
   ]
  },
  {
   "cell_type": "code",
   "execution_count": 12,
   "id": "6c4b84d3-aa09-4536-988e-d3ca02a60dcd",
   "metadata": {},
   "outputs": [],
   "source": [
    "def train_circuit(circuit, hamiltonian, nepochs, exec_backend, differentiation_rule=None, nshots=None):\n",
    "    \"\"\"\n",
    "    Perform a simple gradient descent training of ``circuit`` to minimize the expectation \n",
    "    value of ``hamiltonian``. Gradients are computed via the chosen ``differentiation_rule``\n",
    "    and expectation values calculated executing circuit on the selected ``exec_backend``.\n",
    "\n",
    "    Returns: \n",
    "        float: total execution time.\n",
    "    \"\"\"\n",
    "    # a couple of hyper-parameters\n",
    "    learning_rate = 0.01\n",
    "    random_seed = 42\n",
    "\n",
    "    # random parameters\n",
    "    np.random.seed(random_seed)\n",
    "    nparams = len(circuit.get_parameters())\n",
    "    params = tf.Variable(np.random.uniform(0, 2*np.pi, nparams))\n",
    "\n",
    "    it = time.time()\n",
    "\n",
    "    for epoch in range(nepochs):\n",
    "        with tf.GradientTape() as tape:\n",
    "            circuit.set_parameters(params)\n",
    "            #print(params)\n",
    "            cost = expectation.expectation(\n",
    "                    observable=hamiltonian,\n",
    "                    circuit=circuit,\n",
    "                    exec_backend=exec_backend,\n",
    "                    differentiation_rule=differentiation_rule,\n",
    "                    nshots=nshots,\n",
    "                )\n",
    "            if (epoch % 10 == 0):\n",
    "                print(f\"Cost: {round(cost, 4)} \\t |\\t Epoch: {epoch}\")\n",
    "            gradients = tape.gradient(cost, params)\n",
    "            init_params = params.assign_sub(learning_rate * gradients)\n",
    "    ft = time.time()\n",
    "    \n",
    "    return (ft - it)  "
   ]
  },
  {
   "cell_type": "markdown",
   "id": "63950898-fd94-422b-a9cf-b9222700c331",
   "metadata": {},
   "source": [
    "#### Training scenario 1: `(tf, psr, tf)`"
   ]
  },
  {
   "cell_type": "code",
   "execution_count": 17,
   "id": "26bd1eeb-4479-45c6-859b-21b9dca97c2c",
   "metadata": {},
   "outputs": [
    {
     "name": "stdout",
     "output_type": "stream",
     "text": [
      "Cost: 0.3486 \t |\t Epoch: 0\n",
      "Cost: 0.0435 \t |\t Epoch: 10\n",
      "Cost: -0.2314 \t |\t Epoch: 20\n",
      "Cost: -0.457 \t |\t Epoch: 30\n",
      "Cost: -0.629 \t |\t Epoch: 40\n",
      "Execution time with (tf, psr, tf): 33.1975154876709\n"
     ]
    }
   ],
   "source": [
    "nqubits = 3\n",
    "nlayers = 3\n",
    "nepochs = 50\n",
    "\n",
    "# setup the problem\n",
    "circuit = build_parametric_circuit(nqubits, nlayers)\n",
    "hamiltonian = hamiltonians.Z(nqubits)\n",
    "\n",
    "tf_psr_tf_time = train_circuit(\n",
    "    circuit=circuit,\n",
    "    hamiltonian=hamiltonian,\n",
    "    nepochs=nepochs,\n",
    "    exec_backend=tf_backend,\n",
    "    differentiation_rule=differentiation.parameter_shift\n",
    ")\n",
    "\n",
    "print(f\"Execution time with (tf, psr, tf): {tf_psr_tf_time}\")"
   ]
  },
  {
   "cell_type": "markdown",
   "id": "08aba037-9dac-4b06-beba-0e3177138091",
   "metadata": {},
   "source": [
    "#### Training scenario 2: `(tf, psr, np)`"
   ]
  },
  {
   "cell_type": "code",
   "execution_count": 19,
   "id": "775d2bb6-2112-4a47-9c4e-e22938be0194",
   "metadata": {},
   "outputs": [
    {
     "name": "stdout",
     "output_type": "stream",
     "text": [
      "Cost: 0.3486 \t |\t Epoch: 0\n",
      "Cost: 0.0435 \t |\t Epoch: 10\n",
      "Cost: -0.2314 \t |\t Epoch: 20\n",
      "Cost: -0.457 \t |\t Epoch: 30\n",
      "Cost: -0.629 \t |\t Epoch: 40\n",
      "Execution time with (tf, psr, np): 1.7887814044952393\n"
     ]
    }
   ],
   "source": [
    "tf_psr_np_time = train_circuit(\n",
    "    circuit=circuit,\n",
    "    hamiltonian=hamiltonian,\n",
    "    nepochs=nepochs,\n",
    "    exec_backend=np_backend,\n",
    "    differentiation_rule=differentiation.parameter_shift\n",
    ")\n",
    "\n",
    "print(f\"Execution time with (tf, psr, np): {tf_psr_np_time}\")"
   ]
  },
  {
   "cell_type": "markdown",
   "id": "c24cfb3b-d9e2-4aaf-a590-63712e9d9afb",
   "metadata": {},
   "source": [
    "#### Training scenario 3: `(tf, tf, tf)`"
   ]
  },
  {
   "cell_type": "code",
   "execution_count": 23,
   "id": "20e27788-e721-4a66-a606-fd7d8f5eda34",
   "metadata": {},
   "outputs": [
    {
     "name": "stdout",
     "output_type": "stream",
     "text": [
      "Cost: 0.3486 \t |\t Epoch: 0\n"
     ]
    },
    {
     "ename": "TypeError",
     "evalue": "'NoneType' object is not callable",
     "output_type": "error",
     "traceback": [
      "\u001b[0;31m---------------------------------------------------------------------------\u001b[0m",
      "\u001b[0;31mTypeError\u001b[0m                                 Traceback (most recent call last)",
      "Cell \u001b[0;32mIn[23], line 1\u001b[0m\n\u001b[0;32m----> 1\u001b[0m tf_tf_tf_time \u001b[38;5;241m=\u001b[39m \u001b[43mtrain_circuit\u001b[49m\u001b[43m(\u001b[49m\n\u001b[1;32m      2\u001b[0m \u001b[43m    \u001b[49m\u001b[43mcircuit\u001b[49m\u001b[38;5;241;43m=\u001b[39;49m\u001b[43mcircuit\u001b[49m\u001b[43m,\u001b[49m\n\u001b[1;32m      3\u001b[0m \u001b[43m    \u001b[49m\u001b[43mhamiltonian\u001b[49m\u001b[38;5;241;43m=\u001b[39;49m\u001b[43mhamiltonian\u001b[49m\u001b[43m,\u001b[49m\n\u001b[1;32m      4\u001b[0m \u001b[43m    \u001b[49m\u001b[43mnepochs\u001b[49m\u001b[38;5;241;43m=\u001b[39;49m\u001b[38;5;241;43m100\u001b[39;49m\u001b[43m,\u001b[49m\n\u001b[1;32m      5\u001b[0m \u001b[43m    \u001b[49m\u001b[43mexec_backend\u001b[49m\u001b[38;5;241;43m=\u001b[39;49m\u001b[43mtf_backend\u001b[49m\u001b[43m,\u001b[49m\n\u001b[1;32m      6\u001b[0m \u001b[43m    \u001b[49m\u001b[43mdifferentiation_rule\u001b[49m\u001b[38;5;241;43m=\u001b[39;49m\u001b[38;5;28;43;01mNone\u001b[39;49;00m\n\u001b[1;32m      7\u001b[0m \u001b[43m)\u001b[49m\n\u001b[1;32m      9\u001b[0m \u001b[38;5;28mprint\u001b[39m(\u001b[38;5;124mf\u001b[39m\u001b[38;5;124m\"\u001b[39m\u001b[38;5;124mExecution time with (tf, tf, tf): \u001b[39m\u001b[38;5;132;01m{\u001b[39;00mtf_tf_tf_time\u001b[38;5;132;01m}\u001b[39;00m\u001b[38;5;124m\"\u001b[39m)\n",
      "Cell \u001b[0;32mIn[12], line 34\u001b[0m, in \u001b[0;36mtrain_circuit\u001b[0;34m(circuit, hamiltonian, nepochs, exec_backend, differentiation_rule, nshots)\u001b[0m\n\u001b[1;32m     32\u001b[0m         \u001b[38;5;28;01mif\u001b[39;00m (epoch \u001b[38;5;241m%\u001b[39m \u001b[38;5;241m10\u001b[39m \u001b[38;5;241m==\u001b[39m \u001b[38;5;241m0\u001b[39m):\n\u001b[1;32m     33\u001b[0m             \u001b[38;5;28mprint\u001b[39m(\u001b[38;5;124mf\u001b[39m\u001b[38;5;124m\"\u001b[39m\u001b[38;5;124mCost: \u001b[39m\u001b[38;5;132;01m{\u001b[39;00m\u001b[38;5;28mround\u001b[39m(cost,\u001b[38;5;250m \u001b[39m\u001b[38;5;241m4\u001b[39m)\u001b[38;5;132;01m}\u001b[39;00m\u001b[38;5;124m \u001b[39m\u001b[38;5;130;01m\\t\u001b[39;00m\u001b[38;5;124m |\u001b[39m\u001b[38;5;130;01m\\t\u001b[39;00m\u001b[38;5;124m Epoch: \u001b[39m\u001b[38;5;132;01m{\u001b[39;00mepoch\u001b[38;5;132;01m}\u001b[39;00m\u001b[38;5;124m\"\u001b[39m)\n\u001b[0;32m---> 34\u001b[0m         gradients \u001b[38;5;241m=\u001b[39m \u001b[43mtape\u001b[49m\u001b[38;5;241;43m.\u001b[39;49m\u001b[43mgradient\u001b[49m\u001b[43m(\u001b[49m\u001b[43mcost\u001b[49m\u001b[43m,\u001b[49m\u001b[43m \u001b[49m\u001b[43mparams\u001b[49m\u001b[43m)\u001b[49m\n\u001b[1;32m     35\u001b[0m         init_params \u001b[38;5;241m=\u001b[39m params\u001b[38;5;241m.\u001b[39massign_sub(learning_rate \u001b[38;5;241m*\u001b[39m gradients)\n\u001b[1;32m     36\u001b[0m ft \u001b[38;5;241m=\u001b[39m time\u001b[38;5;241m.\u001b[39mtime()\n",
      "File \u001b[0;32m~/Documents/PhD/envs/qibo/lib/python3.10/site-packages/tensorflow/python/eager/backprop.py:1066\u001b[0m, in \u001b[0;36mGradientTape.gradient\u001b[0;34m(self, target, sources, output_gradients, unconnected_gradients)\u001b[0m\n\u001b[1;32m   1060\u001b[0m   output_gradients \u001b[38;5;241m=\u001b[39m (\n\u001b[1;32m   1061\u001b[0m       composite_tensor_gradient\u001b[38;5;241m.\u001b[39mget_flat_tensors_for_gradients(\n\u001b[1;32m   1062\u001b[0m           output_gradients))\n\u001b[1;32m   1063\u001b[0m   output_gradients \u001b[38;5;241m=\u001b[39m [\u001b[38;5;28;01mNone\u001b[39;00m \u001b[38;5;28;01mif\u001b[39;00m x \u001b[38;5;129;01mis\u001b[39;00m \u001b[38;5;28;01mNone\u001b[39;00m \u001b[38;5;28;01melse\u001b[39;00m ops\u001b[38;5;241m.\u001b[39mconvert_to_tensor(x)\n\u001b[1;32m   1064\u001b[0m                       \u001b[38;5;28;01mfor\u001b[39;00m x \u001b[38;5;129;01min\u001b[39;00m output_gradients]\n\u001b[0;32m-> 1066\u001b[0m flat_grad \u001b[38;5;241m=\u001b[39m \u001b[43mimperative_grad\u001b[49m\u001b[38;5;241;43m.\u001b[39;49m\u001b[43mimperative_grad\u001b[49m\u001b[43m(\u001b[49m\n\u001b[1;32m   1067\u001b[0m \u001b[43m    \u001b[49m\u001b[38;5;28;43mself\u001b[39;49m\u001b[38;5;241;43m.\u001b[39;49m\u001b[43m_tape\u001b[49m\u001b[43m,\u001b[49m\n\u001b[1;32m   1068\u001b[0m \u001b[43m    \u001b[49m\u001b[43mflat_targets\u001b[49m\u001b[43m,\u001b[49m\n\u001b[1;32m   1069\u001b[0m \u001b[43m    \u001b[49m\u001b[43mflat_sources\u001b[49m\u001b[43m,\u001b[49m\n\u001b[1;32m   1070\u001b[0m \u001b[43m    \u001b[49m\u001b[43moutput_gradients\u001b[49m\u001b[38;5;241;43m=\u001b[39;49m\u001b[43moutput_gradients\u001b[49m\u001b[43m,\u001b[49m\n\u001b[1;32m   1071\u001b[0m \u001b[43m    \u001b[49m\u001b[43msources_raw\u001b[49m\u001b[38;5;241;43m=\u001b[39;49m\u001b[43mflat_sources_raw\u001b[49m\u001b[43m,\u001b[49m\n\u001b[1;32m   1072\u001b[0m \u001b[43m    \u001b[49m\u001b[43munconnected_gradients\u001b[49m\u001b[38;5;241;43m=\u001b[39;49m\u001b[43munconnected_gradients\u001b[49m\u001b[43m)\u001b[49m\n\u001b[1;32m   1074\u001b[0m \u001b[38;5;28;01mif\u001b[39;00m \u001b[38;5;129;01mnot\u001b[39;00m \u001b[38;5;28mself\u001b[39m\u001b[38;5;241m.\u001b[39m_persistent:\n\u001b[1;32m   1075\u001b[0m   \u001b[38;5;66;03m# Keep track of watched variables before setting tape to None\u001b[39;00m\n\u001b[1;32m   1076\u001b[0m   \u001b[38;5;28mself\u001b[39m\u001b[38;5;241m.\u001b[39m_watched_variables \u001b[38;5;241m=\u001b[39m \u001b[38;5;28mself\u001b[39m\u001b[38;5;241m.\u001b[39m_tape\u001b[38;5;241m.\u001b[39mwatched_variables()\n",
      "File \u001b[0;32m~/Documents/PhD/envs/qibo/lib/python3.10/site-packages/tensorflow/python/eager/imperative_grad.py:67\u001b[0m, in \u001b[0;36mimperative_grad\u001b[0;34m(tape, target, sources, output_gradients, sources_raw, unconnected_gradients)\u001b[0m\n\u001b[1;32m     63\u001b[0m \u001b[38;5;28;01mexcept\u001b[39;00m \u001b[38;5;167;01mValueError\u001b[39;00m:\n\u001b[1;32m     64\u001b[0m   \u001b[38;5;28;01mraise\u001b[39;00m \u001b[38;5;167;01mValueError\u001b[39;00m(\n\u001b[1;32m     65\u001b[0m       \u001b[38;5;124m\"\u001b[39m\u001b[38;5;124mUnknown value for unconnected_gradients: \u001b[39m\u001b[38;5;132;01m%r\u001b[39;00m\u001b[38;5;124m\"\u001b[39m \u001b[38;5;241m%\u001b[39m unconnected_gradients)\n\u001b[0;32m---> 67\u001b[0m \u001b[38;5;28;01mreturn\u001b[39;00m \u001b[43mpywrap_tfe\u001b[49m\u001b[38;5;241;43m.\u001b[39;49m\u001b[43mTFE_Py_TapeGradient\u001b[49m\u001b[43m(\u001b[49m\n\u001b[1;32m     68\u001b[0m \u001b[43m    \u001b[49m\u001b[43mtape\u001b[49m\u001b[38;5;241;43m.\u001b[39;49m\u001b[43m_tape\u001b[49m\u001b[43m,\u001b[49m\u001b[43m  \u001b[49m\u001b[38;5;66;43;03m# pylint: disable=protected-access\u001b[39;49;00m\n\u001b[1;32m     69\u001b[0m \u001b[43m    \u001b[49m\u001b[43mtarget\u001b[49m\u001b[43m,\u001b[49m\n\u001b[1;32m     70\u001b[0m \u001b[43m    \u001b[49m\u001b[43msources\u001b[49m\u001b[43m,\u001b[49m\n\u001b[1;32m     71\u001b[0m \u001b[43m    \u001b[49m\u001b[43moutput_gradients\u001b[49m\u001b[43m,\u001b[49m\n\u001b[1;32m     72\u001b[0m \u001b[43m    \u001b[49m\u001b[43msources_raw\u001b[49m\u001b[43m,\u001b[49m\n\u001b[1;32m     73\u001b[0m \u001b[43m    \u001b[49m\u001b[43mcompat\u001b[49m\u001b[38;5;241;43m.\u001b[39;49m\u001b[43mas_str\u001b[49m\u001b[43m(\u001b[49m\u001b[43munconnected_gradients\u001b[49m\u001b[38;5;241;43m.\u001b[39;49m\u001b[43mvalue\u001b[49m\u001b[43m)\u001b[49m\u001b[43m)\u001b[49m\n",
      "File \u001b[0;32m~/Documents/PhD/envs/qibo/lib/python3.10/site-packages/tensorflow/python/ops/custom_gradient.py:583\u001b[0m, in \u001b[0;36m_eager_mode_decorator.<locals>.actual_grad_fn\u001b[0;34m(*result_grad_components)\u001b[0m\n\u001b[1;32m    580\u001b[0m     \u001b[38;5;28;01mraise\u001b[39;00m \u001b[38;5;167;01mValueError\u001b[39;00m(\u001b[38;5;124m\"\u001b[39m\u001b[38;5;124mMust return gradient for each variable from \u001b[39m\u001b[38;5;124m\"\u001b[39m\n\u001b[1;32m    581\u001b[0m                      \u001b[38;5;124m\"\u001b[39m\u001b[38;5;124m@custom_gradient grad_fn.\u001b[39m\u001b[38;5;124m\"\u001b[39m)\n\u001b[1;32m    582\u001b[0m \u001b[38;5;28;01melse\u001b[39;00m:\n\u001b[0;32m--> 583\u001b[0m   input_grads \u001b[38;5;241m=\u001b[39m \u001b[43mgrad_fn\u001b[49m\u001b[43m(\u001b[49m\u001b[38;5;241;43m*\u001b[39;49m\u001b[43mresult_grads\u001b[49m\u001b[43m)\u001b[49m\n\u001b[1;32m    584\u001b[0m   variable_grads \u001b[38;5;241m=\u001b[39m []\n\u001b[1;32m    585\u001b[0m flat_grads \u001b[38;5;241m=\u001b[39m composite_tensor_gradient\u001b[38;5;241m.\u001b[39mget_flat_tensors_for_gradients(\n\u001b[1;32m    586\u001b[0m     nest\u001b[38;5;241m.\u001b[39mflatten(input_grads))\n",
      "File \u001b[0;32m~/Documents/PhD/qiboml/src/qiboml/operations/expectation.py:122\u001b[0m, in \u001b[0;36m_with_tf.<locals>._expectation.<locals>.grad\u001b[0;34m(upstream)\u001b[0m\n\u001b[1;32m    121\u001b[0m \u001b[38;5;28;01mdef\u001b[39;00m \u001b[38;5;21mgrad\u001b[39m(upstream):\n\u001b[0;32m--> 122\u001b[0m     gradients \u001b[38;5;241m=\u001b[39m upstream \u001b[38;5;241m*\u001b[39m tf\u001b[38;5;241m.\u001b[39mstack(\u001b[43mdifferentiation_rule\u001b[49m\u001b[43m(\u001b[49m\u001b[38;5;241;43m*\u001b[39;49m\u001b[38;5;241;43m*\u001b[39;49m\u001b[43mkwargs\u001b[49m\u001b[43m)\u001b[49m)\n\u001b[1;32m    123\u001b[0m     \u001b[38;5;28;01mreturn\u001b[39;00m tf\u001b[38;5;241m.\u001b[39munstack(gradients)\n",
      "\u001b[0;31mTypeError\u001b[0m: 'NoneType' object is not callable"
     ]
    }
   ],
   "source": [
    "tf_tf_tf_time = train_circuit(\n",
    "    circuit=circuit,\n",
    "    hamiltonian=hamiltonian,\n",
    "    nepochs=100,\n",
    "    exec_backend=tf_backend,\n",
    "    differentiation_rule=None\n",
    ")\n",
    "\n",
    "print(f\"Execution time with (tf, tf, tf): {tf_tf_tf_time}\")"
   ]
  },
  {
   "cell_type": "code",
   "execution_count": 26,
   "id": "2a905fa8-7b67-444c-b953-5a7ac3703b75",
   "metadata": {},
   "outputs": [
    {
     "name": "stdout",
     "output_type": "stream",
     "text": [
      "(tf, psr, tf): 455.663761138916\n",
      "(tf, psr, np): 30.62137269973755\n",
      "(tf, sym, tf): 15.607949256896973\n"
     ]
    }
   ],
   "source": [
    "print(f\"(tf, psr, tf): {tf_psr_tf_time}\")\n",
    "print(f\"(tf, psr, np): {tf_psr_np_time}\")\n",
    "print(f\"(tf, sym, tf): {tf_tf_tf_time}\")"
   ]
  },
  {
   "cell_type": "markdown",
   "id": "79c62b66-ac75-4cad-97af-d45851cffe1b",
   "metadata": {},
   "source": [
    "It is clear in this setup the last configuration is the fastest. This can be explained considering TensorFlow's automatic differentiation routines, which are well optimized to compute the backpropagation algorithm. But if we activate the shot-noise the discussion changes. In fact, the TensorFlow automatic differentiation is not usable in a shot-noise setup, and one of the other options has to be set. In that case, using the `numpy` (or the `) backend"
   ]
  },
  {
   "cell_type": "code",
   "execution_count": null,
   "id": "5705df81-9139-48f9-822c-e28dbe8783bb",
   "metadata": {},
   "outputs": [],
   "source": []
  }
 ],
 "metadata": {
  "kernelspec": {
   "display_name": "Python 3 (ipykernel)",
   "language": "python",
   "name": "python3"
  },
  "language_info": {
   "codemirror_mode": {
    "name": "ipython",
    "version": 3
   },
   "file_extension": ".py",
   "mimetype": "text/x-python",
   "name": "python",
   "nbconvert_exporter": "python",
   "pygments_lexer": "ipython3",
   "version": "3.10.0"
  }
 },
 "nbformat": 4,
 "nbformat_minor": 5
}
