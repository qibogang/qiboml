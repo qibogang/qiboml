{
 "cells": [
  {
   "cell_type": "markdown",
   "id": "594e8add-362c-40a7-bb46-2d468529d9e9",
   "metadata": {},
   "source": [
    "## Custom automatic differentiation\n",
    "\n",
    "In `Qiboml` we inherit the `backend` mechanism introduced in `Qibo`, extending it to the possibility of executing our quantum circuits on a specific engine indipendently of the choice of the high-level interface. \n",
    "\n",
    "This means you can decide to work with TensorFlow, or Pytorch, or others, depending on your personal preference, while keeping the possibility to freely set any `Qibo` backend for the circuit's execution.\n",
    "\n",
    "Moreover, we allow free choice of the differentiation rule to be used, which can be selected among the available differentiation rules implemented in `Qiboml`.\n",
    "\n",
    "A schematic representation of the pipeline follows, where we use as an example the custom differentiation rule of TensorFlow.\n",
    "<center><img src=\"./figures/customdiff.svg\" alt=\"drawing\" width=\"1000\"/></center>"
   ]
  },
  {
   "cell_type": "markdown",
   "id": "e183c5e9-fac2-4fb0-add6-dad9deffa00e",
   "metadata": {},
   "source": [
    "In practice, one defines the problem setup by setting the `Qibo` backend as usual. Let's set `tensorflow`."
   ]
  },
  {
   "cell_type": "code",
   "execution_count": 1,
   "id": "1cbe98d3-e4c9-4f89-9a27-3918f8877e51",
   "metadata": {},
   "outputs": [],
   "source": [
    "import os\n",
    "import time\n",
    "from copy import deepcopy\n",
    "\n",
    "# disabling hardware accelerators warnings\n",
    "os.environ[\"TF_CPP_MIN_LOG_LEVEL\"] = \"3\"\n",
    "\n",
    "import numpy as np\n",
    "import tensorflow as tf\n",
    "import matplotlib.pyplot as plt\n",
    "\n",
    "import qibo\n",
    "from qibo import set_backend\n",
    "from qibo import Circuit, gates, hamiltonians\n",
    "\n",
    "from qiboml.operations import differentiation, expectation"
   ]
  },
  {
   "cell_type": "code",
   "execution_count": 2,
   "id": "bbbf2339-efe7-4170-9408-a7b66dff35ae",
   "metadata": {},
   "outputs": [
    {
     "name": "stderr",
     "output_type": "stream",
     "text": [
      "[Qibo 0.2.8|INFO|2024-05-14 16:58:08]: Using tensorflow backend on /device:CPU:0\n"
     ]
    }
   ],
   "source": [
    "set_backend(\"tensorflow\")"
   ]
  },
  {
   "cell_type": "markdown",
   "id": "d904f949-3546-4641-b1d4-c16c75cc8d54",
   "metadata": {},
   "source": [
    "Now let's setup a simple problem. We build a quantum circuit $U$ composed of some rotations and we compute the gradients of\n",
    "$$ \\langle 0 | U^{\\dagger} O U | 0 \\rangle, $$\n",
    "where $O$ is an observable.\n",
    "\n",
    "Let's start with the circuit:"
   ]
  },
  {
   "cell_type": "code",
   "execution_count": 3,
   "id": "fd9264ff-150c-4be7-89ba-5b5fb37afa3b",
   "metadata": {},
   "outputs": [],
   "source": [
    "def build_parametric_circuit(nqubits, nlayers):\n",
    "    \"\"\"Build a Parametric Quantum Circuit with Qibo.\"\"\"\n",
    "    \n",
    "    c = Circuit(nqubits)\n",
    "    for _ in range(nlayers):\n",
    "        for q in range(nqubits):\n",
    "            c.add(gates.RY(q=q, theta=0))\n",
    "            c.add(gates.RZ(q=q, theta=0))\n",
    "        for q in range(0, nqubits-1, 1):\n",
    "            c.add(gates.CNOT(q0=q, q1=q+1))\n",
    "        c.add(gates.CNOT(q0=nqubits-1, q1=0))\n",
    "    c.add(gates.M(*range(nqubits)))\n",
    "\n",
    "    return c"
   ]
  },
  {
   "cell_type": "code",
   "execution_count": 4,
   "id": "37ba84ff-ecb5-46b1-a060-8a4df87d1c1c",
   "metadata": {},
   "outputs": [
    {
     "name": "stdout",
     "output_type": "stream",
     "text": [
      "q0: ─RY─RZ─o───X─RY─RZ─o───X─RY─RZ─o───X─M─\n",
      "q1: ─RY─RZ─X─o─|─RY─RZ─X─o─|─RY─RZ─X─o─|─M─\n",
      "q2: ─RY─RZ───X─o─RY─RZ───X─o─RY─RZ───X─o─M─\n"
     ]
    }
   ],
   "source": [
    "# circuit\n",
    "nqubits = 3\n",
    "nlayers = 3\n",
    "\n",
    "c = build_parametric_circuit(nqubits, nlayers)\n",
    "print(c.draw())"
   ]
  },
  {
   "cell_type": "markdown",
   "id": "398f2f1f-3c91-4437-9a23-8801753c0785",
   "metadata": {},
   "source": [
    "We can fill the circuit with a set of random parameters"
   ]
  },
  {
   "cell_type": "code",
   "execution_count": 5,
   "id": "6b4afa80-bf2d-45e9-ba46-c7996a463fba",
   "metadata": {},
   "outputs": [],
   "source": [
    "# set random parameters\n",
    "nparams = len(c.get_parameters())\n",
    "np.random.seed(42)\n",
    "params = np.random.uniform(0, 2*np.pi, nparams)\n",
    "\n",
    "c.set_parameters(params)"
   ]
  },
  {
   "cell_type": "markdown",
   "id": "26162d5b-45ca-45aa-af62-3367ef0d57a7",
   "metadata": {},
   "source": [
    "We can now define a simple hamiltonian, which will be our target observable."
   ]
  },
  {
   "cell_type": "code",
   "execution_count": 6,
   "id": "b73dad19-cadc-45d5-8d58-85ee5f4d4247",
   "metadata": {},
   "outputs": [],
   "source": [
    "# an observable\n",
    "obs = hamiltonians.Z(nqubits=nqubits)"
   ]
  },
  {
   "cell_type": "markdown",
   "id": "2142eec0-4010-4140-b393-cccf8d32d1fa",
   "metadata": {},
   "source": [
    "Once executed the circuit, we can use the final state to compute the expectation value of the target observable using the appropriate`Qibo` function. "
   ]
  },
  {
   "cell_type": "code",
   "execution_count": 7,
   "id": "6ea9d1a0-e908-4940-9759-fa4c92053ffa",
   "metadata": {},
   "outputs": [
    {
     "name": "stdout",
     "output_type": "stream",
     "text": [
      "tf.Tensor(0.34862167327428123, shape=(), dtype=float64)\n"
     ]
    }
   ],
   "source": [
    "# compute the expectation value\n",
    "final_state = c(nshots=1000).state()\n",
    "\n",
    "print(obs.expectation(final_state))"
   ]
  },
  {
   "cell_type": "markdown",
   "id": "793479b8-ee33-4ec4-9b31-5b539234e904",
   "metadata": {},
   "source": [
    "On the other hand, we developed a customized version of the `expectation` function in `qiboml`, which allows the user to keep the name convention, while integrating the possibility of customize the automatic differentiation provided by the chosen machine learning framework. It can be called from the `qiboml.expectation` module.\n",
    "\n",
    "This function accepts some more argument than the `qibo`'s one. In particular:\n",
    "\n",
    "- `observable`: the target observable, whose expectation value we are interested in;\n",
    "- `circuit`: the circuit which returns the final state used to compute the expectation value;\n",
    "- `inital_state`: the state of the system before applying the circuit;\n",
    "- `nshots`: the number of shots to compute the expectation value;\n",
    "- `backend`: the `qibo` backend on which we want to execute the circuit. This backend can even be a real quantum computer, when setting the `qibolab` backend;\n",
    "- `differentiation_rule`: the actual differentiation rule one wants to apply. "
   ]
  },
  {
   "cell_type": "code",
   "execution_count": 8,
   "id": "0c279101-960f-4ce4-b11f-3297c24e5e72",
   "metadata": {},
   "outputs": [
    {
     "name": "stdout",
     "output_type": "stream",
     "text": [
      "tf.Tensor(0.2, shape=(), dtype=float64)\n"
     ]
    }
   ],
   "source": [
    "np_backend = qibo.backends.construct_backend(\"numpy\")\n",
    "\n",
    "exp = expectation.expectation(\n",
    "    observable=obs,\n",
    "    circuit=c,\n",
    "    exec_backend=np_backend,\n",
    "    differentiation_rule=differentiation.parameter_shift,\n",
    "    nshots=100,\n",
    ")\n",
    "\n",
    "print(exp)"
   ]
  },
  {
   "cell_type": "markdown",
   "id": "a859b18b-c18d-4297-9a08-df433480f6e2",
   "metadata": {},
   "source": [
    "To check if we are actually changing backend, we can compute a certain number of times the expectation value, and plot the time of execution of different backend engines, such that `tensorflow` or `numpy`."
   ]
  },
  {
   "cell_type": "code",
   "execution_count": 9,
   "id": "bec419f1-0fca-4d7a-beca-e09947951278",
   "metadata": {},
   "outputs": [
    {
     "name": "stdout",
     "output_type": "stream",
     "text": [
      "0/500 exec\n",
      "100/500 exec\n",
      "200/500 exec\n",
      "300/500 exec\n",
      "400/500 exec\n"
     ]
    }
   ],
   "source": [
    "np_times, tf_times = [0.], [0.]\n",
    "tf_backend = qibo.backends.construct_backend(\"tensorflow\")\n",
    "nexec = 500\n",
    "\n",
    "for n in range(nexec):\n",
    "    # some logging messages\n",
    "    if (n%100==0):\n",
    "        print(f\"{n}/{nexec} exec\")\n",
    "    \n",
    "    # executing on numpy backend\n",
    "    it = time.time()\n",
    "    expectation.expectation(\n",
    "        observable=obs,\n",
    "        circuit=c,\n",
    "        exec_backend=np_backend,\n",
    "        differentiation_rule=differentiation.parameter_shift\n",
    "    )\n",
    "    ft = time.time()\n",
    "    np_times.append((ft-it))\n",
    "\n",
    "    # executing on tensorflow backend\n",
    "    it = time.time()\n",
    "    expectation.expectation(\n",
    "        observable=obs,\n",
    "        circuit=c,\n",
    "        exec_backend=tf_backend,\n",
    "        differentiation_rule=differentiation.parameter_shift\n",
    "    )\n",
    "    ft = time.time()\n",
    "    tf_times.append((ft-it))"
   ]
  },
  {
   "cell_type": "code",
   "execution_count": 10,
   "id": "72af880a-092d-4531-85d8-e1809359788d",
   "metadata": {},
   "outputs": [
    {
     "data": {
      "image/png": "[encoded data removed]",
      "text/plain": [
       "<Figure size 600x450 with 1 Axes>"
      ]
     },
     "metadata": {},
     "output_type": "display_data"
    }
   ],
   "source": [
    "plt.figure(figsize=(6, 6*6/8))\n",
    "plt.plot(np.add.accumulate(np_times), color=\"red\", label=\"Numpy backend\")\n",
    "plt.plot(np.add.accumulate(tf_times), color=\"royalblue\", label=\"TensorFlow backend\")\n",
    "plt.legend()\n",
    "plt.xlabel(\"# executions\")\n",
    "plt.ylabel(\"Time [s]\")\n",
    "plt.grid(True)\n",
    "plt.show()"
   ]
  },
  {
   "cell_type": "markdown",
   "id": "3e96cb14-5896-4b60-bd90-138906b2c121",
   "metadata": {},
   "source": [
    "This behaviour is expected, since TensorFlow is typically slower than the Numpy backend in executing circuits. It is clear, here, that setting the backend engine to `numpy`, even setting the `frontend` as `tensorflow`, is more convenient."
   ]
  },
  {
   "cell_type": "markdown",
   "id": "23608465-be0b-4a78-8733-cfad381b1cf7",
   "metadata": {},
   "source": [
    "### Optimization example\n",
    "\n",
    "In the following, we optimize the parameters of the parametric circuit to minimize a target cost function, which is the expectation value of a target hamiltonian. We will repeat this three times, using different configuation of the `qiboml` custom differentiation. Let us describe each of these scenarios with the triad `(frontend, differentiation rule, execution backend)`:\n",
    "\n",
    "1. `(tf, psr, tf)`: we are working with the TensorFlow interface, we use the parameter shift rule as differentiation algorithm and we execute the circuits using the Qibo's `tensorflow` backend;\n",
    "2. `(tf, psr, np)`: we are working with the TensorFlow interface, we use the parameter shift rule as differentiation algorithm and we execute the circuits using the Qibo's `numpy` backend;\n",
    "3. `(tf, tf, tf)`: we are working with the TensorFlow interface, we use the tensorflow automatic differentiation algorithm and we execute the circuits using the Qibo's `tensorflow` backend.\n",
    "\n",
    "Note that these are only three of the many possible combinations. One has to pay attention to the problem configuration, e.g. considering the parameter shift algorithm when executing circuits on real hardware (`qibolab` backend), or activating the shot-noise. In fact, the automatic differentiation of tensorflow breaks when shot-noise is activated.\n",
    "\n",
    "We make use of the following function, through which we can customize the training."
   ]
  },
  {
   "cell_type": "code",
   "execution_count": 39,
   "id": "6c4b84d3-aa09-4536-988e-d3ca02a60dcd",
   "metadata": {},
   "outputs": [],
   "source": [
    "def train_circuit(circuit, hamiltonian, nepochs, exec_backend, differentiation_rule=None, nshots=None):\n",
    "    \"\"\"\n",
    "    Perform a simple gradient descent training of ``circuit`` to minimize the expectation \n",
    "    value of ``hamiltonian``. Gradients are computed via the chosen ``differentiation_rule``\n",
    "    and expectation values calculated executing circuit on the selected ``exec_backend``.\n",
    "\n",
    "    Returns: \n",
    "        float: total execution time.\n",
    "    \"\"\"\n",
    "    # a couple of hyper-parameters\n",
    "    learning_rate = 0.01\n",
    "    random_seed = 42\n",
    "\n",
    "    # random parameters\n",
    "    np.random.seed(random_seed)\n",
    "    nparams = len(circuit.get_parameters())\n",
    "    params = tf.Variable(np.random.uniform(0, 2*np.pi, nparams))\n",
    "\n",
    "    it = time.time()\n",
    "\n",
    "    for epoch in range(nepochs):\n",
    "        with tf.GradientTape() as tape:\n",
    "            circuit.set_parameters(params)\n",
    "            cost = expectation.expectation(\n",
    "                    observable=hamiltonian,\n",
    "                    circuit=circuit,\n",
    "                    exec_backend=exec_backend,\n",
    "                    differentiation_rule=differentiation_rule,\n",
    "                    nshots=nshots,\n",
    "                )\n",
    "            if (epoch % 10 == 0):\n",
    "                print(f\"Cost: {round(cost, 4)} \\t |\\t Epoch: {epoch}\")\n",
    "            gradients = tf.Variable(tape.gradient(cost, [params]))\n",
    "            init_params = params.assign_sub(learning_rate * gradients)\n",
    "    ft = time.time()\n",
    "    \n",
    "    return (ft - it)  "
   ]
  },
  {
   "cell_type": "markdown",
   "id": "63950898-fd94-422b-a9cf-b9222700c331",
   "metadata": {},
   "source": [
    "#### Training scenario 1: `(tf, psr, tf)`"
   ]
  },
  {
   "cell_type": "code",
   "execution_count": 40,
   "id": "f64011b0-722d-4bb9-bc58-e60fc4d8ea73",
   "metadata": {},
   "outputs": [
    {
     "data": {
      "text/plain": [
       "<module 'qiboml.operations.expectation' from '/home/matteo/Documents/PhD/qiboml/src/qiboml/operations/expectation.py'>"
      ]
     },
     "execution_count": 40,
     "metadata": {},
     "output_type": "execute_result"
    }
   ],
   "source": [
    "from importlib import reload\n",
    "reload(expectation)"
   ]
  },
  {
   "cell_type": "code",
   "execution_count": 41,
   "id": "26bd1eeb-4479-45c6-859b-21b9dca97c2c",
   "metadata": {},
   "outputs": [
    {
     "name": "stdout",
     "output_type": "stream",
     "text": [
      "Cost: -0.3818 \t |\t Epoch: 0\n"
     ]
    },
    {
     "ename": "InvalidArgumentError",
     "evalue": "{{function_node __wrapped__AssignSubVariableOp_device_/job:localhost/replica:0/task:0/device:CPU:0}} Cannot update variable with shape [12] using a Tensor with shape [1,12], shapes must be equal. [Op:AssignSubVariableOp] name: ",
     "output_type": "error",
     "traceback": [
      "\u001b[0;31m---------------------------------------------------------------------------\u001b[0m",
      "\u001b[0;31mInvalidArgumentError\u001b[0m                      Traceback (most recent call last)",
      "Cell \u001b[0;32mIn[41], line 8\u001b[0m\n\u001b[1;32m      5\u001b[0m circuit \u001b[38;5;241m=\u001b[39m build_parametric_circuit(nqubits, nlayers)\n\u001b[1;32m      6\u001b[0m hamiltonian \u001b[38;5;241m=\u001b[39m hamiltonians\u001b[38;5;241m.\u001b[39mZ(nqubits)\n\u001b[0;32m----> 8\u001b[0m tf_psr_tf_time \u001b[38;5;241m=\u001b[39m \u001b[43mtrain_circuit\u001b[49m\u001b[43m(\u001b[49m\n\u001b[1;32m      9\u001b[0m \u001b[43m    \u001b[49m\u001b[43mcircuit\u001b[49m\u001b[38;5;241;43m=\u001b[39;49m\u001b[43mcircuit\u001b[49m\u001b[43m,\u001b[49m\n\u001b[1;32m     10\u001b[0m \u001b[43m    \u001b[49m\u001b[43mhamiltonian\u001b[49m\u001b[38;5;241;43m=\u001b[39;49m\u001b[43mhamiltonian\u001b[49m\u001b[43m,\u001b[49m\n\u001b[1;32m     11\u001b[0m \u001b[43m    \u001b[49m\u001b[43mnepochs\u001b[49m\u001b[38;5;241;43m=\u001b[39;49m\u001b[38;5;241;43m100\u001b[39;49m\u001b[43m,\u001b[49m\n\u001b[1;32m     12\u001b[0m \u001b[43m    \u001b[49m\u001b[43mexec_backend\u001b[49m\u001b[38;5;241;43m=\u001b[39;49m\u001b[43mtf_backend\u001b[49m\u001b[43m,\u001b[49m\n\u001b[1;32m     13\u001b[0m \u001b[43m    \u001b[49m\u001b[43mdifferentiation_rule\u001b[49m\u001b[38;5;241;43m=\u001b[39;49m\u001b[43mdifferentiation\u001b[49m\u001b[38;5;241;43m.\u001b[39;49m\u001b[43mparameter_shift\u001b[49m\n\u001b[1;32m     14\u001b[0m \u001b[43m)\u001b[49m\n\u001b[1;32m     16\u001b[0m \u001b[38;5;28mprint\u001b[39m(\u001b[38;5;124mf\u001b[39m\u001b[38;5;124m\"\u001b[39m\u001b[38;5;124mExecution time with (tf, psr, tf): \u001b[39m\u001b[38;5;132;01m{\u001b[39;00mtf_psr_tf_time\u001b[38;5;132;01m}\u001b[39;00m\u001b[38;5;124m\"\u001b[39m)\n",
      "Cell \u001b[0;32mIn[39], line 34\u001b[0m, in \u001b[0;36mtrain_circuit\u001b[0;34m(circuit, hamiltonian, nepochs, exec_backend, differentiation_rule, nshots)\u001b[0m\n\u001b[1;32m     32\u001b[0m             \u001b[38;5;28mprint\u001b[39m(\u001b[38;5;124mf\u001b[39m\u001b[38;5;124m\"\u001b[39m\u001b[38;5;124mCost: \u001b[39m\u001b[38;5;132;01m{\u001b[39;00m\u001b[38;5;28mround\u001b[39m(cost,\u001b[38;5;250m \u001b[39m\u001b[38;5;241m4\u001b[39m)\u001b[38;5;132;01m}\u001b[39;00m\u001b[38;5;124m \u001b[39m\u001b[38;5;130;01m\\t\u001b[39;00m\u001b[38;5;124m |\u001b[39m\u001b[38;5;130;01m\\t\u001b[39;00m\u001b[38;5;124m Epoch: \u001b[39m\u001b[38;5;132;01m{\u001b[39;00mepoch\u001b[38;5;132;01m}\u001b[39;00m\u001b[38;5;124m\"\u001b[39m)\n\u001b[1;32m     33\u001b[0m         gradients \u001b[38;5;241m=\u001b[39m tf\u001b[38;5;241m.\u001b[39mVariable(tape\u001b[38;5;241m.\u001b[39mgradient(cost, [params]))\n\u001b[0;32m---> 34\u001b[0m         init_params \u001b[38;5;241m=\u001b[39m \u001b[43mparams\u001b[49m\u001b[38;5;241;43m.\u001b[39;49m\u001b[43massign_sub\u001b[49m\u001b[43m(\u001b[49m\u001b[43mlearning_rate\u001b[49m\u001b[43m \u001b[49m\u001b[38;5;241;43m*\u001b[39;49m\u001b[43m \u001b[49m\u001b[43mgradients\u001b[49m\u001b[43m)\u001b[49m\n\u001b[1;32m     35\u001b[0m ft \u001b[38;5;241m=\u001b[39m time\u001b[38;5;241m.\u001b[39mtime()\n\u001b[1;32m     37\u001b[0m \u001b[38;5;28;01mreturn\u001b[39;00m (ft \u001b[38;5;241m-\u001b[39m it)\n",
      "File \u001b[0;32m~/Documents/PhD/envs/qibo/lib/python3.10/site-packages/tensorflow/python/ops/weak_tensor_ops.py:142\u001b[0m, in \u001b[0;36mweak_tensor_binary_op_wrapper.<locals>.wrapper\u001b[0;34m(*args, **kwargs)\u001b[0m\n\u001b[1;32m    140\u001b[0m \u001b[38;5;28;01mdef\u001b[39;00m \u001b[38;5;21mwrapper\u001b[39m(\u001b[38;5;241m*\u001b[39margs, \u001b[38;5;241m*\u001b[39m\u001b[38;5;241m*\u001b[39mkwargs):\n\u001b[1;32m    141\u001b[0m   \u001b[38;5;28;01mif\u001b[39;00m \u001b[38;5;129;01mnot\u001b[39;00m ops\u001b[38;5;241m.\u001b[39mis_auto_dtype_conversion_enabled():\n\u001b[0;32m--> 142\u001b[0m     \u001b[38;5;28;01mreturn\u001b[39;00m \u001b[43mop\u001b[49m\u001b[43m(\u001b[49m\u001b[38;5;241;43m*\u001b[39;49m\u001b[43margs\u001b[49m\u001b[43m,\u001b[49m\u001b[43m \u001b[49m\u001b[38;5;241;43m*\u001b[39;49m\u001b[38;5;241;43m*\u001b[39;49m\u001b[43mkwargs\u001b[49m\u001b[43m)\u001b[49m\n\u001b[1;32m    143\u001b[0m   bound_arguments \u001b[38;5;241m=\u001b[39m signature\u001b[38;5;241m.\u001b[39mbind(\u001b[38;5;241m*\u001b[39margs, \u001b[38;5;241m*\u001b[39m\u001b[38;5;241m*\u001b[39mkwargs)\n\u001b[1;32m    144\u001b[0m   bound_arguments\u001b[38;5;241m.\u001b[39mapply_defaults()\n",
      "File \u001b[0;32m~/Documents/PhD/envs/qibo/lib/python3.10/site-packages/tensorflow/python/ops/resource_variable_ops.py:973\u001b[0m, in \u001b[0;36mBaseResourceVariable.assign_sub\u001b[0;34m(self, delta, use_locking, name, read_value)\u001b[0m\n\u001b[1;32m    969\u001b[0m \u001b[38;5;66;03m# TODO(apassos): this here and below is not atomic. Consider making it\u001b[39;00m\n\u001b[1;32m    970\u001b[0m \u001b[38;5;66;03m# atomic if there's a way to do so without a performance cost for those who\u001b[39;00m\n\u001b[1;32m    971\u001b[0m \u001b[38;5;66;03m# don't need it.\u001b[39;00m\n\u001b[1;32m    972\u001b[0m \u001b[38;5;28;01mwith\u001b[39;00m _handle_graph(\u001b[38;5;28mself\u001b[39m\u001b[38;5;241m.\u001b[39mhandle), \u001b[38;5;28mself\u001b[39m\u001b[38;5;241m.\u001b[39m_assign_dependencies():\n\u001b[0;32m--> 973\u001b[0m   assign_sub_op \u001b[38;5;241m=\u001b[39m \u001b[43mgen_resource_variable_ops\u001b[49m\u001b[38;5;241;43m.\u001b[39;49m\u001b[43massign_sub_variable_op\u001b[49m\u001b[43m(\u001b[49m\n\u001b[1;32m    974\u001b[0m \u001b[43m      \u001b[49m\u001b[38;5;28;43mself\u001b[39;49m\u001b[38;5;241;43m.\u001b[39;49m\u001b[43mhandle\u001b[49m\u001b[43m,\u001b[49m\n\u001b[1;32m    975\u001b[0m \u001b[43m      \u001b[49m\u001b[43mops\u001b[49m\u001b[38;5;241;43m.\u001b[39;49m\u001b[43mconvert_to_tensor\u001b[49m\u001b[43m(\u001b[49m\u001b[43mdelta\u001b[49m\u001b[43m,\u001b[49m\u001b[43m \u001b[49m\u001b[43mdtype\u001b[49m\u001b[38;5;241;43m=\u001b[39;49m\u001b[38;5;28;43mself\u001b[39;49m\u001b[38;5;241;43m.\u001b[39;49m\u001b[43mdtype\u001b[49m\u001b[43m)\u001b[49m\u001b[43m,\u001b[49m\n\u001b[1;32m    976\u001b[0m \u001b[43m      \u001b[49m\u001b[43mname\u001b[49m\u001b[38;5;241;43m=\u001b[39;49m\u001b[43mname\u001b[49m\u001b[43m)\u001b[49m\n\u001b[1;32m    977\u001b[0m \u001b[38;5;28;01mif\u001b[39;00m read_value:\n\u001b[1;32m    978\u001b[0m   \u001b[38;5;28;01mreturn\u001b[39;00m \u001b[38;5;28mself\u001b[39m\u001b[38;5;241m.\u001b[39m_lazy_read(assign_sub_op)\n",
      "File \u001b[0;32m~/Documents/PhD/envs/qibo/lib/python3.10/site-packages/tensorflow/python/ops/gen_resource_variable_ops.py:101\u001b[0m, in \u001b[0;36massign_sub_variable_op\u001b[0;34m(resource, value, name)\u001b[0m\n\u001b[1;32m     99\u001b[0m   \u001b[38;5;28;01mreturn\u001b[39;00m _result\n\u001b[1;32m    100\u001b[0m \u001b[38;5;28;01mexcept\u001b[39;00m _core\u001b[38;5;241m.\u001b[39m_NotOkStatusException \u001b[38;5;28;01mas\u001b[39;00m e:\n\u001b[0;32m--> 101\u001b[0m   \u001b[43m_ops\u001b[49m\u001b[38;5;241;43m.\u001b[39;49m\u001b[43mraise_from_not_ok_status\u001b[49m\u001b[43m(\u001b[49m\u001b[43me\u001b[49m\u001b[43m,\u001b[49m\u001b[43m \u001b[49m\u001b[43mname\u001b[49m\u001b[43m)\u001b[49m\n\u001b[1;32m    102\u001b[0m \u001b[38;5;28;01mexcept\u001b[39;00m _core\u001b[38;5;241m.\u001b[39m_FallbackException:\n\u001b[1;32m    103\u001b[0m   \u001b[38;5;28;01mpass\u001b[39;00m\n",
      "File \u001b[0;32m~/Documents/PhD/envs/qibo/lib/python3.10/site-packages/tensorflow/python/framework/ops.py:5983\u001b[0m, in \u001b[0;36mraise_from_not_ok_status\u001b[0;34m(e, name)\u001b[0m\n\u001b[1;32m   5981\u001b[0m \u001b[38;5;28;01mdef\u001b[39;00m \u001b[38;5;21mraise_from_not_ok_status\u001b[39m(e, name) \u001b[38;5;241m-\u001b[39m\u001b[38;5;241m>\u001b[39m NoReturn:\n\u001b[1;32m   5982\u001b[0m   e\u001b[38;5;241m.\u001b[39mmessage \u001b[38;5;241m+\u001b[39m\u001b[38;5;241m=\u001b[39m (\u001b[38;5;124m\"\u001b[39m\u001b[38;5;124m name: \u001b[39m\u001b[38;5;124m\"\u001b[39m \u001b[38;5;241m+\u001b[39m \u001b[38;5;28mstr\u001b[39m(name \u001b[38;5;28;01mif\u001b[39;00m name \u001b[38;5;129;01mis\u001b[39;00m \u001b[38;5;129;01mnot\u001b[39;00m \u001b[38;5;28;01mNone\u001b[39;00m \u001b[38;5;28;01melse\u001b[39;00m \u001b[38;5;124m\"\u001b[39m\u001b[38;5;124m\"\u001b[39m))\n\u001b[0;32m-> 5983\u001b[0m   \u001b[38;5;28;01mraise\u001b[39;00m core\u001b[38;5;241m.\u001b[39m_status_to_exception(e) \u001b[38;5;28;01mfrom\u001b[39;00m \u001b[38;5;28;01mNone\u001b[39;00m\n",
      "\u001b[0;31mInvalidArgumentError\u001b[0m: {{function_node __wrapped__AssignSubVariableOp_device_/job:localhost/replica:0/task:0/device:CPU:0}} Cannot update variable with shape [12] using a Tensor with shape [1,12], shapes must be equal. [Op:AssignSubVariableOp] name: "
     ]
    }
   ],
   "source": [
    "nqubits = 2\n",
    "nlayers = 3\n",
    "\n",
    "# setup the problem\n",
    "circuit = build_parametric_circuit(nqubits, nlayers)\n",
    "hamiltonian = hamiltonians.Z(nqubits)\n",
    "\n",
    "tf_psr_tf_time = train_circuit(\n",
    "    circuit=circuit,\n",
    "    hamiltonian=hamiltonian,\n",
    "    nepochs=100,\n",
    "    exec_backend=tf_backend,\n",
    "    differentiation_rule=differentiation.parameter_shift\n",
    ")\n",
    "\n",
    "print(f\"Execution time with (tf, psr, tf): {tf_psr_tf_time}\")"
   ]
  },
  {
   "cell_type": "markdown",
   "id": "08aba037-9dac-4b06-beba-0e3177138091",
   "metadata": {},
   "source": [
    "#### Training scenario 2: `(tf, psr, np)`"
   ]
  },
  {
   "cell_type": "code",
   "execution_count": 14,
   "id": "775d2bb6-2112-4a47-9c4e-e22938be0194",
   "metadata": {},
   "outputs": [
    {
     "name": "stdout",
     "output_type": "stream",
     "text": [
      "Cost: -0.3818 \t |\t Epoch: 0\n"
     ]
    },
    {
     "ename": "TypeError",
     "evalue": "unsupported operand type(s) for *: 'float' and 'NoneType'",
     "output_type": "error",
     "traceback": [
      "\u001b[0;31m---------------------------------------------------------------------------\u001b[0m",
      "\u001b[0;31mTypeError\u001b[0m                                 Traceback (most recent call last)",
      "Cell \u001b[0;32mIn[14], line 1\u001b[0m\n\u001b[0;32m----> 1\u001b[0m tf_psr_np_time \u001b[38;5;241m=\u001b[39m \u001b[43mtrain_circuit\u001b[49m\u001b[43m(\u001b[49m\n\u001b[1;32m      2\u001b[0m \u001b[43m    \u001b[49m\u001b[43mcircuit\u001b[49m\u001b[38;5;241;43m=\u001b[39;49m\u001b[43mcircuit\u001b[49m\u001b[43m,\u001b[49m\n\u001b[1;32m      3\u001b[0m \u001b[43m    \u001b[49m\u001b[43mhamiltonian\u001b[49m\u001b[38;5;241;43m=\u001b[39;49m\u001b[43mhamiltonian\u001b[49m\u001b[43m,\u001b[49m\n\u001b[1;32m      4\u001b[0m \u001b[43m    \u001b[49m\u001b[43mnepochs\u001b[49m\u001b[38;5;241;43m=\u001b[39;49m\u001b[38;5;241;43m100\u001b[39;49m\u001b[43m,\u001b[49m\n\u001b[1;32m      5\u001b[0m \u001b[43m    \u001b[49m\u001b[43mexec_backend\u001b[49m\u001b[38;5;241;43m=\u001b[39;49m\u001b[43mnp_backend\u001b[49m\u001b[43m,\u001b[49m\n\u001b[1;32m      6\u001b[0m \u001b[43m    \u001b[49m\u001b[43mdifferentiation_rule\u001b[49m\u001b[38;5;241;43m=\u001b[39;49m\u001b[43mdifferentiation\u001b[49m\u001b[38;5;241;43m.\u001b[39;49m\u001b[43mparameter_shift\u001b[49m\n\u001b[1;32m      7\u001b[0m \u001b[43m)\u001b[49m\n\u001b[1;32m      9\u001b[0m \u001b[38;5;28mprint\u001b[39m(\u001b[38;5;124mf\u001b[39m\u001b[38;5;124m\"\u001b[39m\u001b[38;5;124mExecution time with (tf, psr, np): \u001b[39m\u001b[38;5;132;01m{\u001b[39;00mtf_psr_np_time\u001b[38;5;132;01m}\u001b[39;00m\u001b[38;5;124m\"\u001b[39m)\n",
      "Cell \u001b[0;32mIn[12], line 34\u001b[0m, in \u001b[0;36mtrain_circuit\u001b[0;34m(circuit, hamiltonian, nepochs, exec_backend, differentiation_rule, nshots)\u001b[0m\n\u001b[1;32m     32\u001b[0m             \u001b[38;5;28mprint\u001b[39m(\u001b[38;5;124mf\u001b[39m\u001b[38;5;124m\"\u001b[39m\u001b[38;5;124mCost: \u001b[39m\u001b[38;5;132;01m{\u001b[39;00m\u001b[38;5;28mround\u001b[39m(cost,\u001b[38;5;250m \u001b[39m\u001b[38;5;241m4\u001b[39m)\u001b[38;5;132;01m}\u001b[39;00m\u001b[38;5;124m \u001b[39m\u001b[38;5;130;01m\\t\u001b[39;00m\u001b[38;5;124m |\u001b[39m\u001b[38;5;130;01m\\t\u001b[39;00m\u001b[38;5;124m Epoch: \u001b[39m\u001b[38;5;132;01m{\u001b[39;00mepoch\u001b[38;5;132;01m}\u001b[39;00m\u001b[38;5;124m\"\u001b[39m)\n\u001b[1;32m     33\u001b[0m         gradients \u001b[38;5;241m=\u001b[39m tape\u001b[38;5;241m.\u001b[39mgradient(cost, params, )\n\u001b[0;32m---> 34\u001b[0m         init_params \u001b[38;5;241m=\u001b[39m params\u001b[38;5;241m.\u001b[39massign_sub(\u001b[43mlearning_rate\u001b[49m\u001b[43m \u001b[49m\u001b[38;5;241;43m*\u001b[39;49m\u001b[43m \u001b[49m\u001b[43mgradients\u001b[49m)\n\u001b[1;32m     35\u001b[0m ft \u001b[38;5;241m=\u001b[39m time\u001b[38;5;241m.\u001b[39mtime()\n\u001b[1;32m     37\u001b[0m \u001b[38;5;28;01mreturn\u001b[39;00m (ft \u001b[38;5;241m-\u001b[39m it)\n",
      "\u001b[0;31mTypeError\u001b[0m: unsupported operand type(s) for *: 'float' and 'NoneType'"
     ]
    }
   ],
   "source": [
    "tf_psr_np_time = train_circuit(\n",
    "    circuit=circuit,\n",
    "    hamiltonian=hamiltonian,\n",
    "    nepochs=100,\n",
    "    exec_backend=np_backend,\n",
    "    differentiation_rule=differentiation.parameter_shift\n",
    ")\n",
    "\n",
    "print(f\"Execution time with (tf, psr, np): {tf_psr_np_time}\")"
   ]
  },
  {
   "cell_type": "markdown",
   "id": "c24cfb3b-d9e2-4aaf-a590-63712e9d9afb",
   "metadata": {},
   "source": [
    "#### Training scenario 3: `(tf, tf, tf)`"
   ]
  },
  {
   "cell_type": "code",
   "execution_count": 14,
   "id": "20e27788-e721-4a66-a606-fd7d8f5eda34",
   "metadata": {},
   "outputs": [
    {
     "name": "stdout",
     "output_type": "stream",
     "text": [
      "Cost: -0.1995 \t |\t Epoch: 0\n",
      "Cost: -0.5636 \t |\t Epoch: 10\n",
      "Cost: -0.8084 \t |\t Epoch: 20\n",
      "Cost: -0.9856 \t |\t Epoch: 30\n",
      "Cost: -1.1273 \t |\t Epoch: 40\n",
      "Cost: -1.2492 \t |\t Epoch: 50\n",
      "Cost: -1.3579 \t |\t Epoch: 60\n",
      "Cost: -1.4559 \t |\t Epoch: 70\n",
      "Cost: -1.5443 \t |\t Epoch: 80\n",
      "Cost: -1.624 \t |\t Epoch: 90\n",
      "Execution time with (tf, tf, tf): 8.758509635925293\n"
     ]
    }
   ],
   "source": [
    "tf_tf_tf_time = train_circuit(\n",
    "    circuit=circuit,\n",
    "    hamiltonian=hamiltonian,\n",
    "    nepochs=100,\n",
    "    exec_backend=\"tensorflow\",\n",
    "    differentiation_rule=None\n",
    ")\n",
    "\n",
    "print(f\"Execution time with (tf, tf, tf): {tf_tf_tf_time}\")"
   ]
  },
  {
   "cell_type": "code",
   "execution_count": 15,
   "id": "2a905fa8-7b67-444c-b953-5a7ac3703b75",
   "metadata": {},
   "outputs": [
    {
     "name": "stdout",
     "output_type": "stream",
     "text": [
      "(tf, psr, tf): 170.2510015964508\n",
      "(tf, psr, np): 13.80636191368103\n",
      "(tf, tf, tf): 8.758509635925293\n"
     ]
    }
   ],
   "source": [
    "print(f\"(tf, psr, tf): {tf_psr_tf_time}\")\n",
    "print(f\"(tf, psr, np): {tf_psr_np_time}\")\n",
    "print(f\"(tf, tf, tf): {tf_tf_tf_time}\")"
   ]
  },
  {
   "cell_type": "markdown",
   "id": "79c62b66-ac75-4cad-97af-d45851cffe1b",
   "metadata": {},
   "source": [
    "It is clear in this setup the last configuration is the fastest. This can be explained considering TensorFlow's automatic differentiation routines, which are well optimized to compute the backpropagation algorithm. But if we activate the shot-noise the discussion changes. In fact, the TensorFlow automatic differentiation is not usable in a shot-noise setup, and one of the other options has to be set. In that case, using the `numpy` (or the `) backend"
   ]
  }
 ],
 "metadata": {
  "kernelspec": {
   "display_name": "Python 3 (ipykernel)",
   "language": "python",
   "name": "python3"
  },
  "language_info": {
   "codemirror_mode": {
    "name": "ipython",
    "version": 3
   },
   "file_extension": ".py",
   "mimetype": "text/x-python",
   "name": "python",
   "nbconvert_exporter": "python",
   "pygments_lexer": "ipython3",
   "version": "3.10.0"
  }
 },
 "nbformat": 4,
 "nbformat_minor": 5
}
